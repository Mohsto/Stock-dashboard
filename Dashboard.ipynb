{
 "cells": [
  {
   "cell_type": "markdown",
   "metadata": {},
   "source": [
    "# Step 1: Fetch Live Stock Market Data"
   ]
  },
  {
   "cell_type": "code",
   "execution_count": 1,
   "metadata": {},
   "outputs": [],
   "source": [
    "import yfinance as yf\n",
    "\n",
    "def get_stock_data(ticker):\n",
    "    stock = yf.Ticker(ticker)\n",
    "    df = stock.history(period=\"1mo\")\n",
    "    return df"
   ]
  },
  {
   "cell_type": "code",
   "execution_count": null,
   "metadata": {},
   "outputs": [
    {
     "name": "stdout",
     "output_type": "stream",
     "text": [
      "                                 Open        High         Low       Close  \\\n",
      "Date                                                                        \n",
      "2025-01-27 00:00:00-05:00  223.773962  231.895022  223.733997  229.607544   \n",
      "2025-01-28 00:00:00-05:00  230.596471  239.926210  230.556507  237.998322   \n",
      "2025-01-29 00:00:00-05:00  233.862872  239.596573  233.752992  239.097122   \n",
      "2025-01-30 00:00:00-05:00  238.407871  240.525538  236.949483  237.329056   \n",
      "2025-01-31 00:00:00-05:00  246.918527  246.918527  233.183628  235.740814   \n",
      "\n",
      "                              Volume  Dividends  Stock Splits  \n",
      "Date                                                           \n",
      "2025-01-27 00:00:00-05:00   94863400        0.0           0.0  \n",
      "2025-01-28 00:00:00-05:00   75707600        0.0           0.0  \n",
      "2025-01-29 00:00:00-05:00   45486100        0.0           0.0  \n",
      "2025-01-30 00:00:00-05:00   55658300        0.0           0.0  \n",
      "2025-01-31 00:00:00-05:00  101075100        0.0           0.0  \n"
     ]
    }
   ],
   "source": [
    "apple_data = get_stock_data(\"AAPL\")\n",
    "print(apple_data.head())"
   ]
  },
  {
   "cell_type": "markdown",
   "metadata": {},
   "source": [
    "# Step 2: Build Interactive Dashboard Using Dash"
   ]
  },
  {
   "cell_type": "code",
   "execution_count": 3,
   "metadata": {},
   "outputs": [],
   "source": [
    "import dash\n",
    "from dash import dcc, html\n",
    "from dash.dependencies import Input, Output\n",
    "import plotly.graph_objs as go\n",
    "\n",
    "# Initialize Dash app\n",
    "app = dash.Dash(__name__)\n",
    "\n",
    "# Layout\n",
    "app.layout = html.Div([\n",
    "    html.H1(\"Stock Market Dashboard\"),\n",
    "    dcc.Input(id='stock-symbol', type='text', value='AAPL', debounce=True),\n",
    "    dcc.Graph(id='stock-chart')\n",
    "])"
   ]
  },
  {
   "cell_type": "code",
   "execution_count": 4,
   "metadata": {},
   "outputs": [
    {
     "data": {
      "text/html": [
       "\n",
       "        <iframe\n",
       "            width=\"100%\"\n",
       "            height=\"650\"\n",
       "            src=\"http://127.0.0.1:8050/\"\n",
       "            frameborder=\"0\"\n",
       "            allowfullscreen\n",
       "            \n",
       "        ></iframe>\n",
       "        "
      ],
      "text/plain": [
       "<IPython.lib.display.IFrame at 0x213958e3dd0>"
      ]
     },
     "metadata": {},
     "output_type": "display_data"
    }
   ],
   "source": [
    "# Callback to update stock chart\n",
    "@app.callback(\n",
    "    Output('stock-chart', 'figure'),\n",
    "    Input('stock-symbol', 'value')\n",
    ")\n",
    "def update_chart(symbol):\n",
    "    df = get_stock_data(symbol)\n",
    "    fig = go.Figure()\n",
    "    fig.add_trace(go.Scatter(x=df.index, y=df['Close'], mode='lines', name='Close Price'))\n",
    "    fig.update_layout(title=f\"Stock Prices for {symbol}\")\n",
    "    return fig\n",
    "\n",
    "# Run app\n",
    "if __name__ == '__main__':\n",
    "    app.run_server(debug=True)"
   ]
  }
 ],
 "metadata": {
  "kernelspec": {
   "display_name": "base",
   "language": "python",
   "name": "python3"
  },
  "language_info": {
   "codemirror_mode": {
    "name": "ipython",
    "version": 3
   },
   "file_extension": ".py",
   "mimetype": "text/x-python",
   "name": "python",
   "nbconvert_exporter": "python",
   "pygments_lexer": "ipython3",
   "version": "3.12.4"
  }
 },
 "nbformat": 4,
 "nbformat_minor": 2
}
